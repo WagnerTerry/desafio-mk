{
 "cells": [
  {
   "cell_type": "code",
   "execution_count": 6,
   "metadata": {},
   "outputs": [
    {
     "name": "stderr",
     "output_type": "stream",
     "text": [
      "/tmp/ipykernel_5864/632326596.py:2: DtypeWarning: Columns (4) have mixed types. Specify dtype option on import or set low_memory=False.\n",
      "  dataframe = pd.read_csv('./billboard200.csv', sep=\",\")\n"
     ]
    }
   ],
   "source": [
    "import pandas as pd\n",
    "dataframe = pd.read_csv('./billboard200.csv', sep=\",\")\n"
   ]
  },
  {
   "cell_type": "code",
   "execution_count": 7,
   "metadata": {},
   "outputs": [],
   "source": [
    "newDataframe = dataframe[[\"Rank\", \"Song\", \"Artist\", \"Peak Position\", \"Weeks in Charts\"]]\n"
   ]
  },
  {
   "cell_type": "code",
   "execution_count": 9,
   "metadata": {},
   "outputs": [],
   "source": [
    "sortNewDataframe = newDataframe.sort_values(by=[\"Weeks in Charts\", \"Peak Position\"], ascending=False)\n",
    "top100Tracks = sortNewDataframe.head(100)\n",
    "\n",
    "# O argumento index=False é usado para evitar que o Pandas salve o índice das linhas como uma coluna no arquivo CSV.\n",
    "top100Tracks.to_csv('top100faixas.csv', index=False) \n"
   ]
  }
 ],
 "metadata": {
  "kernelspec": {
   "display_name": "venv",
   "language": "python",
   "name": "python3"
  },
  "language_info": {
   "codemirror_mode": {
    "name": "ipython",
    "version": 3
   },
   "file_extension": ".py",
   "mimetype": "text/x-python",
   "name": "python",
   "nbconvert_exporter": "python",
   "pygments_lexer": "ipython3",
   "version": "3.10.12"
  }
 },
 "nbformat": 4,
 "nbformat_minor": 2
}
