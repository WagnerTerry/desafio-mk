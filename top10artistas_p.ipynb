{
 "cells": [
  {
   "cell_type": "code",
   "execution_count": 26,
   "metadata": {},
   "outputs": [
    {
     "name": "stderr",
     "output_type": "stream",
     "text": [
      "/tmp/ipykernel_6348/2576251661.py:2: DtypeWarning: Columns (4) have mixed types. Specify dtype option on import or set low_memory=False.\n",
      "  dataframe = pd.read_csv('./billboard200.csv', sep=\",\")\n"
     ]
    }
   ],
   "source": [
    "import pandas as pd\n",
    "dataframe = pd.read_csv('./billboard200.csv', sep=\",\")"
   ]
  },
  {
   "cell_type": "code",
   "execution_count": 28,
   "metadata": {},
   "outputs": [
    {
     "name": "stdout",
     "output_type": "stream",
     "text": [
      "                  Artist  Pontuação\n",
      "22            Pink Floyd       1662\n",
      "308          Post Malone        978\n",
      "108         Phil Collins        821\n",
      "95                Prince        783\n",
      "210                 P!nk        672\n",
      "0     Peter| Paul & Mary        631\n",
      "161            Pearl Jam        601\n",
      "99           Pat Benatar        491\n",
      "248  Panic! At The Disco        485\n",
      "46            Paul Simon        473\n"
     ]
    }
   ],
   "source": [
    "# Filtrar as linhas para incluir apenas os artistas que começam com a letra \"P\"\n",
    "df_p_artistas = dataframe[dataframe['Artist'].str.startswith('P', na=False)]\n",
    "\n",
    "# Criar um dicionário para armazenar o último valor de \"Weeks in Charts\" de cada música de um artista\n",
    "ultima_semana_por_musica = {}\n",
    "\n",
    "# Iterar sobre cada linha do DataFrame\n",
    "for index, row in df_p_artistas.iterrows():\n",
    "    artista = row['Artist']\n",
    "    semanas = str(row['Weeks in Charts']).split(\",\")  # Dividir as semanas em uma lista\n",
    "    for semana in semanas:\n",
    "        if semana.isdigit():  # Verificar se é um número\n",
    "            semana = int(semana)\n",
    "            ultima_semana_por_musica[(artista, row['Song'])] = semana\n",
    "            break  # Parar após encontrar o último valor de semana\n",
    "\n",
    "# Calcular a pontuação para cada artista\n",
    "pontuacao_artistas = {}\n",
    "for (artista, musica), semana in ultima_semana_por_musica.items():\n",
    "    pontuacao_artistas[artista] = pontuacao_artistas.get(artista, 0) + semana\n",
    "\n",
    "# Converter o dicionário em DataFrame\n",
    "pontuacao_artistas_df = pd.DataFrame(list(pontuacao_artistas.items()), columns=['Artist', 'Pontuação'])\n",
    "\n",
    "# Listar os top 10 artistas\n",
    "top_10_artistas = pontuacao_artistas_df.sort_values(by='Pontuação', ascending=False).head(10)\n",
    "top_10_artistas.to_csv(\"top10artistas_p.csv\", index=False)"
   ]
  }
 ],
 "metadata": {
  "kernelspec": {
   "display_name": "venv",
   "language": "python",
   "name": "python3"
  },
  "language_info": {
   "codemirror_mode": {
    "name": "ipython",
    "version": 3
   },
   "file_extension": ".py",
   "mimetype": "text/x-python",
   "name": "python",
   "nbconvert_exporter": "python",
   "pygments_lexer": "ipython3",
   "version": "3.10.12"
  }
 },
 "nbformat": 4,
 "nbformat_minor": 2
}
