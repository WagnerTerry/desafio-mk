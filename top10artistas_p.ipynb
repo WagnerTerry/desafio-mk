{
 "cells": [
  {
   "cell_type": "code",
   "execution_count": 5,
   "metadata": {},
   "outputs": [
    {
     "name": "stderr",
     "output_type": "stream",
     "text": [
      "/tmp/ipykernel_30266/2576251661.py:2: DtypeWarning: Columns (4) have mixed types. Specify dtype option on import or set low_memory=False.\n",
      "  dataframe = pd.read_csv('./billboard200.csv', sep=\",\")\n"
     ]
    }
   ],
   "source": [
    "import pandas as pd\n",
    "dataframe = pd.read_csv('./billboard200.csv', sep=\",\")"
   ]
  },
  {
   "cell_type": "code",
   "execution_count": 8,
   "metadata": {},
   "outputs": [
    {
     "name": "stdout",
     "output_type": "stream",
     "text": [
      "                   Artist  Pontos\n",
      "6722           Pink Floyd  453458\n",
      "6785          Post Malone  133193\n",
      "6686         Phil Collins   46355\n",
      "6604            Pearl Jam   38286\n",
      "6763               Polo G   27622\n",
      "6457                 P!nk   27259\n",
      "6486  Panic! At The Disco   26912\n",
      "6747        Playboi Carti   23362\n",
      "6816               Prince   23311\n",
      "6769            Pop Smoke   22935\n"
     ]
    }
   ],
   "source": [
    "dataframe['Weeks in Charts'] = pd.to_numeric(dataframe['Weeks in Charts'].replace('-', 0))\n",
    "\n",
    "# Agrupar os dados pelo nome do artista e calcular a pontuação\n",
    "score_by_artist = dataframe.groupby('Artist')['Weeks in Charts'].sum().reset_index(name=\"Pontos\")\n",
    "\n",
    "artists_p = score_by_artist[score_by_artist['Artist'].str.startswith('P', na=False)]\n",
    "\n",
    "# Ordenar os artistas por pontuação em ordem decrescente\n",
    "sort_artists_by_score = artists_p.sort_values(by='Pontos', ascending=False)\n",
    "\n",
    "top_10_artistas_p = sort_artists_by_score.head(10)\n",
    "top_10_artistas_p.to_csv('top10artistas_p', index=False)"
   ]
  }
 ],
 "metadata": {
  "kernelspec": {
   "display_name": "venv",
   "language": "python",
   "name": "python3"
  },
  "language_info": {
   "codemirror_mode": {
    "name": "ipython",
    "version": 3
   },
   "file_extension": ".py",
   "mimetype": "text/x-python",
   "name": "python",
   "nbconvert_exporter": "python",
   "pygments_lexer": "ipython3",
   "version": "3.10.12"
  }
 },
 "nbformat": 4,
 "nbformat_minor": 2
}
