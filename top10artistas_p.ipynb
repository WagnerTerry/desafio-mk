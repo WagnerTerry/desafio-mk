{
 "cells": [
  {
   "cell_type": "code",
   "execution_count": 26,
   "metadata": {},
   "outputs": [
    {
     "name": "stderr",
     "output_type": "stream",
     "text": [
      "/tmp/ipykernel_6348/2576251661.py:2: DtypeWarning: Columns (4) have mixed types. Specify dtype option on import or set low_memory=False.\n",
      "  dataframe = pd.read_csv('./billboard200.csv', sep=\",\")\n"
     ]
    }
   ],
   "source": [
    "import pandas as pd\n",
    "dataframe = pd.read_csv('./billboard200.csv', sep=\",\")"
   ]
  },
  {
   "cell_type": "code",
   "execution_count": 34,
   "metadata": {},
   "outputs": [],
   "source": [
    "# Filtrar as linhas para incluir apenas os artistas que começam com a letra \"P\"\n",
    "df_p_artists = dataframe[dataframe['Artist'].str.startswith('P', na=False)]\n",
    "\n",
    "# Criar um dicionário para armazenar o último valor de \"Weeks in Charts\" de cada música de um artista\n",
    "last_week_by_music = {}\n",
    "\n",
    "# Iterar sobre cada linha do DataFrame\n",
    "for index, row in df_p_artists.iterrows():\n",
    "    artist = row['Artist']\n",
    "    weeks = str(row['Weeks in Charts']).split(\",\")  # Dividir as semanas em uma lista\n",
    "    for week in weeks:\n",
    "        if week.isdigit():  # Verificar se é um número\n",
    "            week = int(week)\n",
    "            last_week_by_music[(artist, row['Song'])] = week\n",
    "            break  # Parar após encontrar o último valor de week\n",
    "\n",
    "# Calcular a pontuação para cada artista\n",
    "score_artists = {}\n",
    "for (artist, music), week in last_week_by_music.items():\n",
    "    score_artists[artist] = score_artists.get(artist, 0) + week\n",
    "\n",
    "# Converter o dicionário em DataFrame\n",
    "score_artists_df = pd.DataFrame(list(score_artists.items()), columns=['Artist', 'Pontos'])\n",
    "\n",
    "# Listar os top 10 artistas\n",
    "top_10_artists = score_artists_df.sort_values(by='Pontos', ascending=False).head(10)\n",
    "top_10_artists.to_csv(\"top10artistas_p.csv\", index=False)"
   ]
  }
 ],
 "metadata": {
  "kernelspec": {
   "display_name": "venv",
   "language": "python",
   "name": "python3"
  },
  "language_info": {
   "codemirror_mode": {
    "name": "ipython",
    "version": 3
   },
   "file_extension": ".py",
   "mimetype": "text/x-python",
   "name": "python",
   "nbconvert_exporter": "python",
   "pygments_lexer": "ipython3",
   "version": "3.10.12"
  }
 },
 "nbformat": 4,
 "nbformat_minor": 2
}
