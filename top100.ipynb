{
 "cells": [
  {
   "cell_type": "code",
   "execution_count": null,
   "metadata": {},
   "outputs": [],
   "source": [
    "import pandas as pd\n",
    "dataframe = pd.read_csv('./billboard200.csv')\n"
   ]
  },
  {
   "cell_type": "code",
   "execution_count": 44,
   "metadata": {},
   "outputs": [],
   "source": [
    "newDataframe = dataframe[[\"Rank\", \"Song\", \"Artist\", \"Peak Position\", \"Weeks in Charts\"]]\n"
   ]
  },
  {
   "cell_type": "code",
   "execution_count": null,
   "metadata": {},
   "outputs": [],
   "source": [
    "sortNewDataframe = newDataframe.sort_values(by=\"Weeks in Charts\", ascending=False)\n",
    "top100Tracks = sortNewDataframe.head(100)\n",
    "top100Tracks.to_csv('top100faixas.csv', index=False) # O argumento index=False é usado para evitar que o Pandas salve o índice das linhas como uma coluna no arquivo CSV.\n"
   ]
  }
 ],
 "metadata": {
  "kernelspec": {
   "display_name": "venv",
   "language": "python",
   "name": "python3"
  },
  "language_info": {
   "codemirror_mode": {
    "name": "ipython",
    "version": 3
   },
   "file_extension": ".py",
   "mimetype": "text/x-python",
   "name": "python",
   "nbconvert_exporter": "python",
   "pygments_lexer": "ipython3",
   "version": "3.10.12"
  }
 },
 "nbformat": 4,
 "nbformat_minor": 2
}
